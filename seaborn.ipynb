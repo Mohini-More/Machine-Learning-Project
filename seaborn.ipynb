{
  "cells": [
    {
      "cell_type": "code",
      "execution_count": null,
      "metadata": {
        "colab": {
          "background_save": true
        },
        "id": "Ce3rhFFuj4Lx"
      },
      "outputs": [],
      "source": [
        "\n",
        "pip install matplotlib"
      ]
    },
    {
      "cell_type": "code",
      "execution_count": null,
      "metadata": {
        "id": "EFoRK5ALf0dE"
      },
      "outputs": [],
      "source": [
        "import warnings\n",
        "warnings.simplefilter(action='ignore', category='futurwarning')\n"
      ]
    },
    {
      "cell_type": "code",
      "execution_count": null,
      "metadata": {
        "colab": {
          "background_save": true
        },
        "id": "bmqrFSg-fjQ_"
      },
      "outputs": [],
      "source": [
        "%matplotlib inline\n",
        "import numpy as np\n",
        "import pandas as pd\n",
        "import matplotlib.pyplot as plt\n",
        "import seaborn as sns"
      ]
    },
    {
      "cell_type": "code",
      "execution_count": null,
      "metadata": {
        "colab": {
          "background_save": true
        },
        "id": "oQTmxrtjfxBj"
      },
      "outputs": [],
      "source": [
        "c1=sns.color_palette()\n",
        "sns.palplot(c1)"
      ]
    },
    {
      "cell_type": "code",
      "execution_count": null,
      "metadata": {
        "colab": {
          "background_save": true
        },
        "id": "IRtQxtiMfxKa"
      },
      "outputs": [],
      "source": [
        "c1=sns.color_palette()\n",
        "sns.palplot(sns.color_palette('pink'))"
      ]
    },
    {
      "cell_type": "code",
      "execution_count": null,
      "metadata": {
        "colab": {
          "background_save": true
        },
        "id": "RVbfNilXghch"
      },
      "outputs": [],
      "source": [
        "c1=sns.color_palette()\n",
        "sns.palplot(sns.color_palette('BrBG',10))"
      ]
    },
    {
      "cell_type": "code",
      "execution_count": null,
      "metadata": {
        "colab": {
          "background_save": true
        },
        "id": "N9sXTFZCj8CT"
      },
      "outputs": [],
      "source": [
        "df=pd.read_csv('titanic.csv')\n",
        "df.head()\n"
      ]
    },
    {
      "cell_type": "code",
      "execution_count": null,
      "metadata": {
        "colab": {
          "background_save": true
        },
        "id": "GS5ppBaUgwfA"
      },
      "outputs": [],
      "source": [
        "#distplot\n",
        "sns.distplot(df['Age'],hist=False)\n",
        "plt.show()"
      ]
    },
    {
      "cell_type": "code",
      "execution_count": null,
      "metadata": {
        "colab": {
          "background_save": true
        },
        "id": "4r8-S1Twgwj6"
      },
      "outputs": [],
      "source": [
        "#histplot\n",
        "sns.histplot(df['Age'],kde=False)\n",
        "plt.show()"
      ]
    },
    {
      "cell_type": "code",
      "execution_count": null,
      "metadata": {
        "colab": {
          "background_save": true
        },
        "id": "kthmHUoDgwqs"
      },
      "outputs": [],
      "source": [
        "#distplot\n",
        "sns.distplot(df['Age'])\n",
        "plt.show()"
      ]
    },
    {
      "cell_type": "code",
      "execution_count": null,
      "metadata": {
        "colab": {
          "background_save": true
        },
        "id": "KplqgRwQgwtC"
      },
      "outputs": [],
      "source": [
        "#relplot\n",
        "sns.relplot(x='Age', y='Fare',hue='Sex',style='Sex', kind='line', data=df)\n",
        "plt.show()"
      ]
    },
    {
      "cell_type": "code",
      "execution_count": null,
      "metadata": {
        "colab": {
          "background_save": true
        },
        "id": "NrusLrIKieCM"
      },
      "outputs": [],
      "source": [
        "#scatterplot\n",
        "plt.figure(figsize=(6,6))\n",
        "sns.scatterplot(x='Age', y='Fare',hue='Sex', data=df)\n",
        "plt.show()"
      ]
    },
    {
      "cell_type": "code",
      "execution_count": null,
      "metadata": {
        "colab": {
          "background_save": true
        },
        "id": "7Kg2-YyxieJD"
      },
      "outputs": [],
      "source": [
        "#barplot\n",
        "plt.figure(figsize=(6,6))\n",
        "sns.barplot(x='Sex', y='Fare',hue='Sex', data=df)\n",
        "plt.show()"
      ]
    },
    {
      "cell_type": "code",
      "execution_count": null,
      "metadata": {
        "colab": {
          "background_save": true
        },
        "id": "lIu9RudsieM2"
      },
      "outputs": [],
      "source": [
        "#slineplot\n",
        "plt.figure(figsize=(6,6))\n",
        "sns.lineplot(x='Age', y='Fare',hue='Sex', style='Sex',data=df)\n",
        "plt.show()"
      ]
    },
    {
      "cell_type": "code",
      "execution_count": null,
      "metadata": {
        "colab": {
          "background_save": true
        },
        "id": "LzQgNMBHieQX"
      },
      "outputs": [],
      "source": [
        "#stripplot\n",
        "plt.figure(figsize=(6,6))\n",
        "sns.stripplot(x='Sex', y='Age',hue='Sex', data=df)\n",
        "plt.show()"
      ]
    },
    {
      "cell_type": "code",
      "execution_count": null,
      "metadata": {
        "colab": {
          "background_save": true
        },
        "id": "u5NnCqrcieTg"
      },
      "outputs": [],
      "source": [
        "#swarmplot\n",
        "plt.figure(figsize=(6,6))\n",
        "sns.swarmplot(x='Sex', y='Fare',hue='Sex', data=df)\n",
        "plt.show()"
      ]
    },
    {
      "cell_type": "code",
      "execution_count": null,
      "metadata": {
        "colab": {
          "background_save": true
        },
        "id": "cnMeT255ieVt"
      },
      "outputs": [],
      "source": [
        "#boxplot\n",
        "plt.figure(figsize=(6,6))\n",
        "sns.boxplot(x='Sex', y='Fare',hue='Sex', data=df)\n",
        "plt.show()"
      ]
    },
    {
      "cell_type": "code",
      "execution_count": null,
      "metadata": {
        "colab": {
          "background_save": true
        },
        "id": "13W1QcBgkOXB"
      },
      "outputs": [],
      "source": [
        "#violinplot\n",
        "plt.figure(figsize=(6,6))\n",
        "sns.violinplot(x='Survived', y='Fare',hue='Sex', data=df)\n",
        "plt.show()"
      ]
    },
    {
      "cell_type": "code",
      "execution_count": null,
      "metadata": {
        "colab": {
          "background_save": true
        },
        "id": "g2vMglgwkOaV"
      },
      "outputs": [],
      "source": [
        "#countlot\n",
        "plt.figure(figsize=(6,6))\n",
        "sns.countplot(x='Survived',hue='Sex', data=df)\n",
        "plt.show()"
      ]
    },
    {
      "cell_type": "code",
      "execution_count": null,
      "metadata": {
        "colab": {
          "background_save": true
        },
        "id": "VKLn9OIHkOdS"
      },
      "outputs": [],
      "source": [
        "#pointnplot\n",
        "plt.figure(figsize=(6,6))\n",
        "sns.pointplot(x='Survived', y='Fare',hue='Sex', data=df)\n",
        "plt.show()"
      ]
    },
    {
      "cell_type": "code",
      "execution_count": null,
      "metadata": {
        "colab": {
          "background_save": true
        },
        "id": "MK8NWh68kOgV"
      },
      "outputs": [],
      "source": [
        "#lmplot\n",
        "plt.figure(figsize=(6,6))\n",
        "sns.lmplot(x='Survived', y='Fare',hue='Sex', data=df)\n",
        "plt.show()"
      ]
    }
  ],
  "metadata": {
    "accelerator": "GPU",
    "colab": {
      "gpuType": "T4",
      "provenance": []
    },
    "kernelspec": {
      "display_name": "Python 3",
      "name": "python3"
    },
    "language_info": {
      "name": "python"
    }
  },
  "nbformat": 4,
  "nbformat_minor": 0
}